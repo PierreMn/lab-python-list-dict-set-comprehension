{
 "cells": [
  {
   "cell_type": "markdown",
   "id": "25d7736c-ba17-4aff-b6bb-66eba20fbf4e",
   "metadata": {},
   "source": [
    "# Lab | List, Dict and Set Comprehension"
   ]
  },
  {
   "cell_type": "markdown",
   "id": "7dd3cbde-675a-4b81-92c3-f728846dbe06",
   "metadata": {},
   "source": [
    "## Exercise: Managing Customer Orders Optimized with Comprehension"
   ]
  },
  {
   "cell_type": "markdown",
   "id": "5d500160-2fb7-4777-b5e4-09d45ebaf328",
   "metadata": {},
   "source": [
    "In the previous exercise, you developed a program to manage customer orders and inventory. Now, let's take it a step further and incorporate comprehension into your code.\n",
    "\n",
    "Follow the steps below to complete the exercise:\n",
    "\n",
    "1. Review your code from the previous exercise and identify areas where you can apply comprehension to simplify and streamline your code. \n",
    "\n",
    "    - *Hint: Apply it to initialize inventory, updating the inventory and printing the updated inventory.*\n",
    "    \n",
    "    - For example, in initializing the inventory, we could have:\n",
    "    \n",
    "        ```python\n",
    "        def initialize_inventory(products):\n",
    "            inventory = {product: int(input(f\"Enter the quantity of {product}s available: \")) for product in products}\n",
    "            return inventory\n",
    "\n",
    "        ```\n",
    "<br>\n",
    "    \n",
    "    \n",
    "2. Modify the function get_customer_orders so it prompts the user to enter the number of customer orders and gathers the product names using a loop and user input. Use comprehension.\n",
    "\n",
    "3. Add a new function to calculate the total price of the customer order. For each product in customer_orders, prompt the user to enter the price of that product. Use comprehension to calculate the total price. Note: assume that the user can only have 1 unit of each product.\n",
    "\n",
    "4. Modify the update_inventory function to remove the product from the inventory if its quantity becomes zero after fulfilling the customer orders. Use comprehension to filter out the products with a quantity of zero from the inventory.\n",
    "\n",
    "5. Print the total price of the customer order.\n",
    "\n",
    "Your code should produce output similar to the following:\n",
    "\n",
    "```python\n",
    "Enter the quantity of t-shirts available:  5\n",
    "Enter the quantity of mugs available:  4\n",
    "Enter the quantity of hats available:  3\n",
    "Enter the quantity of books available:  2\n",
    "Enter the quantity of keychains available:  1\n",
    "Enter the number of customer orders:  2\n",
    "Enter the name of a product that a customer wants to order:  hat\n",
    "Enter the name of a product that a customer wants to order:  keychain\n",
    "\n",
    "Order Statistics:\n",
    "Total Products Ordered: 2\n",
    "Percentage of Unique Products Ordered: 40.0\n",
    "\n",
    "Updated Inventory:\n",
    "t-shirt: 5\n",
    "mug: 4\n",
    "hat: 2\n",
    "book: 2\n",
    "Enter the price of keychain:  5\n",
    "Enter the price of hat:  10\n",
    "Total Price: 15.0\n",
    "\n",
    "```\n"
   ]
  },
  {
   "cell_type": "code",
   "execution_count": 9,
   "id": "2951ff37",
   "metadata": {},
   "outputs": [],
   "source": [
    "#1. Function Initialize Inventory \n",
    "#NB : I used while loop so I don't thing I can replace by a comprehension\n",
    "\n",
    "def initialize_inventory(products):\n",
    "    carry_on = True\n",
    "    while carry_on:\n",
    "        product = input('What product do we have to add at the inventory? if no more product to add, write \"stop\". ')\n",
    "        if product == \"stop\":\n",
    "            carry_on = False\n",
    "        else:\n",
    "            quantity = input(f\"What quantity of {product} do we have? \")\n",
    "            while quantity.isdigit() == False:\n",
    "                quantity = input(\"Please enter a number for the quantity: \")\n",
    "            products[product] = int(quantity)           \n",
    "    return products  "
   ]
  },
  {
   "cell_type": "code",
   "execution_count": 10,
   "id": "caf78cab",
   "metadata": {},
   "outputs": [
    {
     "name": "stdout",
     "output_type": "stream",
     "text": [
      "What product do we have to add at the inventory? if no more product to add, write \"stop\". tea\n",
      "What quantity of tea do we have? 8\n",
      "What product do we have to add at the inventory? if no more product to add, write \"stop\". coffee\n",
      "What quantity of coffee do we have? 9\n",
      "What product do we have to add at the inventory? if no more product to add, write \"stop\". sugar\n",
      "What quantity of sugar do we have? 5\n",
      "What product do we have to add at the inventory? if no more product to add, write \"stop\". stop\n"
     ]
    },
    {
     "data": {
      "text/plain": [
       "{'tea': 8, 'coffee': 9, 'sugar': 5}"
      ]
     },
     "execution_count": 10,
     "metadata": {},
     "output_type": "execute_result"
    }
   ],
   "source": [
    "# Test of the function Initialize Inventory:\n",
    "\n",
    "my_inventory = {}\n",
    "initialize_inventory(my_inventory)"
   ]
  },
  {
   "cell_type": "code",
   "execution_count": 11,
   "id": "83dfbd51",
   "metadata": {},
   "outputs": [],
   "source": [
    "#2. Update of Function Get Customer Orders\n",
    "#NB: I already used a comprehension in my previous lab at this step but on a dictionary and not a set\n",
    "#Here we are going a step closer to initial demand by doing a set instead, without passing the products variable and assuming that a customer order just 1 product max of each\n",
    "\n",
    "\n",
    "def get_customer_orders():\n",
    "    number_of_orders = int(input(\"How many customer orders do we have? \"))\n",
    "    customer_orders = {input(\"What is the product you want to order? \") for product in range(number_of_orders)}\n",
    "    return customer_orders"
   ]
  },
  {
   "cell_type": "code",
   "execution_count": 12,
   "id": "2a6ab6de",
   "metadata": {},
   "outputs": [
    {
     "name": "stdout",
     "output_type": "stream",
     "text": [
      "How many customer orders do we have? 3\n",
      "What is the product you want to order? tea\n",
      "What is the product you want to order? tea\n",
      "What is the product you want to order? coffee\n",
      "{'tea', 'coffee'}\n"
     ]
    }
   ],
   "source": [
    "#test of Function Get Customer Orders: \n",
    "\n",
    "my_customer_orders = get_customer_orders()\n",
    "print(my_customer_orders)\n"
   ]
  },
  {
   "cell_type": "code",
   "execution_count": 13,
   "id": "78600423",
   "metadata": {},
   "outputs": [],
   "source": [
    "#3. New Function Calculate Total Price\n",
    "\n",
    "def calculate_total_price(customer_orders):\n",
    "    priced_customer_orders = {product:int(input(f\"What is the price of {product}? \")) for product in customer_orders}\n",
    "    orders_total_price = sum(priced_customer_orders.values())\n",
    "    return orders_total_price\n",
    "    "
   ]
  },
  {
   "cell_type": "code",
   "execution_count": 14,
   "id": "9a3c9b5f",
   "metadata": {},
   "outputs": [
    {
     "name": "stdout",
     "output_type": "stream",
     "text": [
      "What is the price of tea? 2\n",
      "What is the price of coffee? 3\n"
     ]
    },
    {
     "data": {
      "text/plain": [
       "5"
      ]
     },
     "execution_count": 14,
     "metadata": {},
     "output_type": "execute_result"
    }
   ],
   "source": [
    "# Test Function Calculate Total Price\n",
    "\n",
    "my_orders_total_price = calculate_total_price(my_customer_orders)\n",
    "my_orders_total_price"
   ]
  },
  {
   "cell_type": "code",
   "execution_count": 18,
   "id": "6529ac11",
   "metadata": {},
   "outputs": [],
   "source": [
    "4# Updated Calculate order statistics \n",
    "#NB: back to calculate stats base \n",
    "\n",
    "#4 Function Calculate Order Statistics\n",
    "\n",
    "def calculate_order_statistics(customer_orders, products):\n",
    "    total_products_ordered = len(customer_orders)\n",
    "    percentage_ordered = total_products_ordered / len(products.keys()) * 100\n",
    "    order_status = (total_products_ordered , round(percentage_ordered,2))\n",
    "    return order_status\n",
    "\n"
   ]
  },
  {
   "cell_type": "code",
   "execution_count": 19,
   "id": "7bf5f58c",
   "metadata": {},
   "outputs": [
    {
     "name": "stdout",
     "output_type": "stream",
     "text": [
      "(2, 66.67)\n"
     ]
    }
   ],
   "source": [
    "#test calculate order statistics\n",
    "\n",
    "my_order_status = calculate_order_statistics(my_customer_orders, my_inventory)\n",
    "print(my_order_status)\n"
   ]
  },
  {
   "cell_type": "code",
   "execution_count": null,
   "id": "ab7b28e6",
   "metadata": {},
   "outputs": [],
   "source": [
    "#Modification of the Update Inventory Function: \n",
    "\n",
    "def update_inventory(customer_orders, inventory):\n",
    "    orders.dict = {customer_orders[i]:1 for i in custormer_orders}\n",
    "    for product in inventory:\n",
    "        inventory[product] = int(inventory.get(product)) - int(customer_orders.get(product))\n",
    "    return inventory"
   ]
  }
 ],
 "metadata": {
  "kernelspec": {
   "display_name": "Python 3 (ipykernel)",
   "language": "python",
   "name": "python3"
  },
  "language_info": {
   "codemirror_mode": {
    "name": "ipython",
    "version": 3
   },
   "file_extension": ".py",
   "mimetype": "text/x-python",
   "name": "python",
   "nbconvert_exporter": "python",
   "pygments_lexer": "ipython3",
   "version": "3.11.5"
  }
 },
 "nbformat": 4,
 "nbformat_minor": 5
}
